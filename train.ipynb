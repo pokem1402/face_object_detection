{
 "cells": [
  {
   "cell_type": "code",
   "execution_count": null,
   "metadata": {},
   "outputs": [],
   "source": [
    "train_label_dir = \"preprocessed_dataset/train/labels/\"\n",
    "val_label_dir = \"preprocessed_dataset/val/labels/\"\n",
    "train_image_dir = \"preprocessed_dataset/train/images/\"\n",
    "val_image_dir = \"preprocessed_dataset/val/images/\"\n"
   ]
  },
  {
   "cell_type": "code",
   "execution_count": null,
   "metadata": {},
   "outputs": [],
   "source": [
    "classes = [\"face\", \"leye_close\", \"leye_open\", \"reye_close\", \"reye_open\",\n",
    "           \"mouth_close\", \"mouth_open\", \"cigar\", \"phone\"]\n"
   ]
  },
  {
   "cell_type": "code",
   "execution_count": null,
   "metadata": {},
   "outputs": [],
   "source": [
    "import yaml\n",
    "\n",
    "config = {'path': 'preprocessed_dataset',\n",
    "          'train': 'preprocessed_dataset/train',\n",
    "          'val': 'preprocessed_dataset/val',\n",
    "          'nc': len(classes),\n",
    "          'names': classes}\n",
    "\n",
    "with open(\"data.yaml\", \"w\") as file:\n",
    "    yaml.dump(config, file, default_flow_style=False)\n"
   ]
  },
  {
   "cell_type": "code",
   "execution_count": null,
   "metadata": {},
   "outputs": [],
   "source": [
    "SIZE = 640\n",
    "\n",
    "BATCH_SIZE = 4\n",
    "EPOCHS = 30\n",
    "MODEL = \"yolov7\"\n",
    "WORKERS = 4\n",
    "PROJECT = \"Face_object_detection\"\n",
    "RUN_NAME = f\"{MODEL}_size{SIZE}_epochs{EPOCHS}_batch{BATCH_SIZE}\"\n"
   ]
  },
  {
   "cell_type": "code",
   "execution_count": null,
   "metadata": {},
   "outputs": [],
   "source": [
    "!python ./yolov7/train.py --img {SIZE} --batch {BATCH_SIZE} --epochs {EPOCHS} --data ./data.yaml --weights {MODEL}.pt --device 0 --workers {WORKERS} --project {PROJECT} --name {RUN_NAME} --exist-ok"
   ]
  }
 ],
 "metadata": {
  "kernelspec": {
   "display_name": "Python 3.9.13 ('base')",
   "language": "python",
   "name": "python3"
  },
  "language_info": {
   "name": "python",
   "version": "3.9.13"
  },
  "orig_nbformat": 4,
  "vscode": {
   "interpreter": {
    "hash": "b4b143841983770d84c176b1c8a7e0132d51e8f6de409b808c1e8da94e3c5037"
   }
  }
 },
 "nbformat": 4,
 "nbformat_minor": 2
}
